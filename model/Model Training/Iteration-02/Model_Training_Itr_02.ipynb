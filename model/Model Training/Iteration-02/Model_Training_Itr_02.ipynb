{
  "cells": [
    {
      "cell_type": "code",
      "execution_count": 10,
      "metadata": {
        "id": "wZUsLoWYUePu"
      },
      "outputs": [],
      "source": [
        "import os\n",
        "import scipy.io\n",
        "import numpy as np\n",
        "import torch\n",
        "import torchvision\n",
        "from torchsummary import summary\n",
        "from torchvision import datasets, transforms, models\n",
        "from torch.utils.data import DataLoader, Dataset\n",
        "from torchvision.models import MobileNet_V3_Large_Weights\n",
        "from torch.optim import Adam\n",
        "from torch import nn\n"
      ]
    },
    {
      "cell_type": "markdown",
      "metadata": {
        "id": "yxVsFFGHSvmC"
      },
      "source": [
        "## Load MobilenetV3 Large"
      ]
    },
    {
      "cell_type": "code",
      "execution_count": 9,
      "metadata": {
        "colab": {
          "base_uri": "https://localhost:8080/"
        },
        "id": "STHuWx_2PrpY",
        "outputId": "0401d1af-3223-4cb4-e3df-ad891debaca1"
      },
      "outputs": [
        {
          "name": "stdout",
          "output_type": "stream",
          "text": [
            "----------------------------------------------------------------\n",
            "        Layer (type)               Output Shape         Param #\n",
            "================================================================\n",
            "            Conv2d-1         [-1, 16, 112, 112]             432\n",
            "       BatchNorm2d-2         [-1, 16, 112, 112]              32\n",
            "         Hardswish-3         [-1, 16, 112, 112]               0\n",
            "            Conv2d-4         [-1, 16, 112, 112]             144\n",
            "       BatchNorm2d-5         [-1, 16, 112, 112]              32\n",
            "              ReLU-6         [-1, 16, 112, 112]               0\n",
            "            Conv2d-7         [-1, 16, 112, 112]             256\n",
            "       BatchNorm2d-8         [-1, 16, 112, 112]              32\n",
            "  InvertedResidual-9         [-1, 16, 112, 112]               0\n",
            "           Conv2d-10         [-1, 64, 112, 112]           1,024\n",
            "      BatchNorm2d-11         [-1, 64, 112, 112]             128\n",
            "             ReLU-12         [-1, 64, 112, 112]               0\n",
            "           Conv2d-13           [-1, 64, 56, 56]             576\n",
            "      BatchNorm2d-14           [-1, 64, 56, 56]             128\n",
            "             ReLU-15           [-1, 64, 56, 56]               0\n",
            "           Conv2d-16           [-1, 24, 56, 56]           1,536\n",
            "      BatchNorm2d-17           [-1, 24, 56, 56]              48\n",
            " InvertedResidual-18           [-1, 24, 56, 56]               0\n",
            "           Conv2d-19           [-1, 72, 56, 56]           1,728\n",
            "      BatchNorm2d-20           [-1, 72, 56, 56]             144\n",
            "             ReLU-21           [-1, 72, 56, 56]               0\n",
            "           Conv2d-22           [-1, 72, 56, 56]             648\n",
            "      BatchNorm2d-23           [-1, 72, 56, 56]             144\n",
            "             ReLU-24           [-1, 72, 56, 56]               0\n",
            "           Conv2d-25           [-1, 24, 56, 56]           1,728\n",
            "      BatchNorm2d-26           [-1, 24, 56, 56]              48\n",
            " InvertedResidual-27           [-1, 24, 56, 56]               0\n",
            "           Conv2d-28           [-1, 72, 56, 56]           1,728\n",
            "      BatchNorm2d-29           [-1, 72, 56, 56]             144\n",
            "             ReLU-30           [-1, 72, 56, 56]               0\n",
            "           Conv2d-31           [-1, 72, 28, 28]           1,800\n",
            "      BatchNorm2d-32           [-1, 72, 28, 28]             144\n",
            "             ReLU-33           [-1, 72, 28, 28]               0\n",
            "AdaptiveAvgPool2d-34             [-1, 72, 1, 1]               0\n",
            "           Conv2d-35             [-1, 24, 1, 1]           1,752\n",
            "             ReLU-36             [-1, 24, 1, 1]               0\n",
            "           Conv2d-37             [-1, 72, 1, 1]           1,800\n",
            "      Hardsigmoid-38             [-1, 72, 1, 1]               0\n",
            "SqueezeExcitation-39           [-1, 72, 28, 28]               0\n",
            "           Conv2d-40           [-1, 40, 28, 28]           2,880\n",
            "      BatchNorm2d-41           [-1, 40, 28, 28]              80\n",
            " InvertedResidual-42           [-1, 40, 28, 28]               0\n",
            "           Conv2d-43          [-1, 120, 28, 28]           4,800\n",
            "      BatchNorm2d-44          [-1, 120, 28, 28]             240\n",
            "             ReLU-45          [-1, 120, 28, 28]               0\n",
            "           Conv2d-46          [-1, 120, 28, 28]           3,000\n",
            "      BatchNorm2d-47          [-1, 120, 28, 28]             240\n",
            "             ReLU-48          [-1, 120, 28, 28]               0\n",
            "AdaptiveAvgPool2d-49            [-1, 120, 1, 1]               0\n",
            "           Conv2d-50             [-1, 32, 1, 1]           3,872\n",
            "             ReLU-51             [-1, 32, 1, 1]               0\n",
            "           Conv2d-52            [-1, 120, 1, 1]           3,960\n",
            "      Hardsigmoid-53            [-1, 120, 1, 1]               0\n",
            "SqueezeExcitation-54          [-1, 120, 28, 28]               0\n",
            "           Conv2d-55           [-1, 40, 28, 28]           4,800\n",
            "      BatchNorm2d-56           [-1, 40, 28, 28]              80\n",
            " InvertedResidual-57           [-1, 40, 28, 28]               0\n",
            "           Conv2d-58          [-1, 120, 28, 28]           4,800\n",
            "      BatchNorm2d-59          [-1, 120, 28, 28]             240\n",
            "             ReLU-60          [-1, 120, 28, 28]               0\n",
            "           Conv2d-61          [-1, 120, 28, 28]           3,000\n",
            "      BatchNorm2d-62          [-1, 120, 28, 28]             240\n",
            "             ReLU-63          [-1, 120, 28, 28]               0\n",
            "AdaptiveAvgPool2d-64            [-1, 120, 1, 1]               0\n",
            "           Conv2d-65             [-1, 32, 1, 1]           3,872\n",
            "             ReLU-66             [-1, 32, 1, 1]               0\n",
            "           Conv2d-67            [-1, 120, 1, 1]           3,960\n",
            "      Hardsigmoid-68            [-1, 120, 1, 1]               0\n",
            "SqueezeExcitation-69          [-1, 120, 28, 28]               0\n",
            "           Conv2d-70           [-1, 40, 28, 28]           4,800\n",
            "      BatchNorm2d-71           [-1, 40, 28, 28]              80\n",
            " InvertedResidual-72           [-1, 40, 28, 28]               0\n",
            "           Conv2d-73          [-1, 240, 28, 28]           9,600\n",
            "      BatchNorm2d-74          [-1, 240, 28, 28]             480\n",
            "        Hardswish-75          [-1, 240, 28, 28]               0\n",
            "           Conv2d-76          [-1, 240, 14, 14]           2,160\n",
            "      BatchNorm2d-77          [-1, 240, 14, 14]             480\n",
            "        Hardswish-78          [-1, 240, 14, 14]               0\n",
            "           Conv2d-79           [-1, 80, 14, 14]          19,200\n",
            "      BatchNorm2d-80           [-1, 80, 14, 14]             160\n",
            " InvertedResidual-81           [-1, 80, 14, 14]               0\n",
            "           Conv2d-82          [-1, 200, 14, 14]          16,000\n",
            "      BatchNorm2d-83          [-1, 200, 14, 14]             400\n",
            "        Hardswish-84          [-1, 200, 14, 14]               0\n",
            "           Conv2d-85          [-1, 200, 14, 14]           1,800\n",
            "      BatchNorm2d-86          [-1, 200, 14, 14]             400\n",
            "        Hardswish-87          [-1, 200, 14, 14]               0\n",
            "           Conv2d-88           [-1, 80, 14, 14]          16,000\n",
            "      BatchNorm2d-89           [-1, 80, 14, 14]             160\n",
            " InvertedResidual-90           [-1, 80, 14, 14]               0\n",
            "           Conv2d-91          [-1, 184, 14, 14]          14,720\n",
            "      BatchNorm2d-92          [-1, 184, 14, 14]             368\n",
            "        Hardswish-93          [-1, 184, 14, 14]               0\n",
            "           Conv2d-94          [-1, 184, 14, 14]           1,656\n",
            "      BatchNorm2d-95          [-1, 184, 14, 14]             368\n",
            "        Hardswish-96          [-1, 184, 14, 14]               0\n",
            "           Conv2d-97           [-1, 80, 14, 14]          14,720\n",
            "      BatchNorm2d-98           [-1, 80, 14, 14]             160\n",
            " InvertedResidual-99           [-1, 80, 14, 14]               0\n",
            "          Conv2d-100          [-1, 184, 14, 14]          14,720\n",
            "     BatchNorm2d-101          [-1, 184, 14, 14]             368\n",
            "       Hardswish-102          [-1, 184, 14, 14]               0\n",
            "          Conv2d-103          [-1, 184, 14, 14]           1,656\n",
            "     BatchNorm2d-104          [-1, 184, 14, 14]             368\n",
            "       Hardswish-105          [-1, 184, 14, 14]               0\n",
            "          Conv2d-106           [-1, 80, 14, 14]          14,720\n",
            "     BatchNorm2d-107           [-1, 80, 14, 14]             160\n",
            "InvertedResidual-108           [-1, 80, 14, 14]               0\n",
            "          Conv2d-109          [-1, 480, 14, 14]          38,400\n",
            "     BatchNorm2d-110          [-1, 480, 14, 14]             960\n",
            "       Hardswish-111          [-1, 480, 14, 14]               0\n",
            "          Conv2d-112          [-1, 480, 14, 14]           4,320\n",
            "     BatchNorm2d-113          [-1, 480, 14, 14]             960\n",
            "       Hardswish-114          [-1, 480, 14, 14]               0\n",
            "AdaptiveAvgPool2d-115            [-1, 480, 1, 1]               0\n",
            "          Conv2d-116            [-1, 120, 1, 1]          57,720\n",
            "            ReLU-117            [-1, 120, 1, 1]               0\n",
            "          Conv2d-118            [-1, 480, 1, 1]          58,080\n",
            "     Hardsigmoid-119            [-1, 480, 1, 1]               0\n",
            "SqueezeExcitation-120          [-1, 480, 14, 14]               0\n",
            "          Conv2d-121          [-1, 112, 14, 14]          53,760\n",
            "     BatchNorm2d-122          [-1, 112, 14, 14]             224\n",
            "InvertedResidual-123          [-1, 112, 14, 14]               0\n",
            "          Conv2d-124          [-1, 672, 14, 14]          75,264\n",
            "     BatchNorm2d-125          [-1, 672, 14, 14]           1,344\n",
            "       Hardswish-126          [-1, 672, 14, 14]               0\n",
            "          Conv2d-127          [-1, 672, 14, 14]           6,048\n",
            "     BatchNorm2d-128          [-1, 672, 14, 14]           1,344\n",
            "       Hardswish-129          [-1, 672, 14, 14]               0\n",
            "AdaptiveAvgPool2d-130            [-1, 672, 1, 1]               0\n",
            "          Conv2d-131            [-1, 168, 1, 1]         113,064\n",
            "            ReLU-132            [-1, 168, 1, 1]               0\n",
            "          Conv2d-133            [-1, 672, 1, 1]         113,568\n",
            "     Hardsigmoid-134            [-1, 672, 1, 1]               0\n",
            "SqueezeExcitation-135          [-1, 672, 14, 14]               0\n",
            "          Conv2d-136          [-1, 112, 14, 14]          75,264\n",
            "     BatchNorm2d-137          [-1, 112, 14, 14]             224\n",
            "InvertedResidual-138          [-1, 112, 14, 14]               0\n",
            "          Conv2d-139          [-1, 672, 14, 14]          75,264\n",
            "     BatchNorm2d-140          [-1, 672, 14, 14]           1,344\n",
            "       Hardswish-141          [-1, 672, 14, 14]               0\n",
            "          Conv2d-142            [-1, 672, 7, 7]          16,800\n",
            "     BatchNorm2d-143            [-1, 672, 7, 7]           1,344\n",
            "       Hardswish-144            [-1, 672, 7, 7]               0\n",
            "AdaptiveAvgPool2d-145            [-1, 672, 1, 1]               0\n",
            "          Conv2d-146            [-1, 168, 1, 1]         113,064\n",
            "            ReLU-147            [-1, 168, 1, 1]               0\n",
            "          Conv2d-148            [-1, 672, 1, 1]         113,568\n",
            "     Hardsigmoid-149            [-1, 672, 1, 1]               0\n",
            "SqueezeExcitation-150            [-1, 672, 7, 7]               0\n",
            "          Conv2d-151            [-1, 160, 7, 7]         107,520\n",
            "     BatchNorm2d-152            [-1, 160, 7, 7]             320\n",
            "InvertedResidual-153            [-1, 160, 7, 7]               0\n",
            "          Conv2d-154            [-1, 960, 7, 7]         153,600\n",
            "     BatchNorm2d-155            [-1, 960, 7, 7]           1,920\n",
            "       Hardswish-156            [-1, 960, 7, 7]               0\n",
            "          Conv2d-157            [-1, 960, 7, 7]          24,000\n",
            "     BatchNorm2d-158            [-1, 960, 7, 7]           1,920\n",
            "       Hardswish-159            [-1, 960, 7, 7]               0\n",
            "AdaptiveAvgPool2d-160            [-1, 960, 1, 1]               0\n",
            "          Conv2d-161            [-1, 240, 1, 1]         230,640\n",
            "            ReLU-162            [-1, 240, 1, 1]               0\n",
            "          Conv2d-163            [-1, 960, 1, 1]         231,360\n",
            "     Hardsigmoid-164            [-1, 960, 1, 1]               0\n",
            "SqueezeExcitation-165            [-1, 960, 7, 7]               0\n",
            "          Conv2d-166            [-1, 160, 7, 7]         153,600\n",
            "     BatchNorm2d-167            [-1, 160, 7, 7]             320\n",
            "InvertedResidual-168            [-1, 160, 7, 7]               0\n",
            "          Conv2d-169            [-1, 960, 7, 7]         153,600\n",
            "     BatchNorm2d-170            [-1, 960, 7, 7]           1,920\n",
            "       Hardswish-171            [-1, 960, 7, 7]               0\n",
            "          Conv2d-172            [-1, 960, 7, 7]          24,000\n",
            "     BatchNorm2d-173            [-1, 960, 7, 7]           1,920\n",
            "       Hardswish-174            [-1, 960, 7, 7]               0\n",
            "AdaptiveAvgPool2d-175            [-1, 960, 1, 1]               0\n",
            "          Conv2d-176            [-1, 240, 1, 1]         230,640\n",
            "            ReLU-177            [-1, 240, 1, 1]               0\n",
            "          Conv2d-178            [-1, 960, 1, 1]         231,360\n",
            "     Hardsigmoid-179            [-1, 960, 1, 1]               0\n",
            "SqueezeExcitation-180            [-1, 960, 7, 7]               0\n",
            "          Conv2d-181            [-1, 160, 7, 7]         153,600\n",
            "     BatchNorm2d-182            [-1, 160, 7, 7]             320\n",
            "InvertedResidual-183            [-1, 160, 7, 7]               0\n",
            "          Conv2d-184            [-1, 960, 7, 7]         153,600\n",
            "     BatchNorm2d-185            [-1, 960, 7, 7]           1,920\n",
            "       Hardswish-186            [-1, 960, 7, 7]               0\n",
            "AdaptiveAvgPool2d-187            [-1, 960, 1, 1]               0\n",
            "          Linear-188                 [-1, 1280]       1,230,080\n",
            "       Hardswish-189                 [-1, 1280]               0\n",
            "         Dropout-190                 [-1, 1280]               0\n",
            "          Linear-191                 [-1, 1000]       1,281,000\n",
            "================================================================\n",
            "Total params: 5,483,032\n",
            "Trainable params: 5,483,032\n",
            "Non-trainable params: 0\n",
            "----------------------------------------------------------------\n",
            "Input size (MB): 0.57\n",
            "Forward/backward pass size (MB): 105.41\n",
            "Params size (MB): 20.92\n",
            "Estimated Total Size (MB): 126.90\n",
            "----------------------------------------------------------------\n"
          ]
        }
      ],
      "source": [
        "# Load the pre-trained MobileNetV3 model\n",
        "mobilenet = models.mobilenet_v3_large(weights=MobileNet_V3_Large_Weights.IMAGENET1K_V1)\n",
        "summary(mobilenet, (3, 224, 224))"
      ]
    },
    {
      "cell_type": "markdown",
      "metadata": {
        "id": "JrigYNzZSjNw"
      },
      "source": [
        "## Load Dataset"
      ]
    },
    {
      "cell_type": "code",
      "execution_count": 13,
      "metadata": {
        "colab": {
          "base_uri": "https://localhost:8080/"
        },
        "id": "Fr0rvBBgSN2G",
        "outputId": "c8e68953-f7bd-4594-be26-e86723c07bbb"
      },
      "outputs": [
        {
          "name": "stdout",
          "output_type": "stream",
          "text": [
            "Drive already mounted at /content/drive; to attempt to forcibly remount, call drive.mount(\"/content/drive\", force_remount=True).\n"
          ]
        }
      ],
      "source": [
        "from google.colab import drive\n",
        "drive.mount('/content/drive')"
      ]
    },
    {
      "cell_type": "code",
      "execution_count": 25,
      "metadata": {
        "id": "SFp0AMatSgfv"
      },
      "outputs": [],
      "source": [
        "DATASET_PATH = \"/content/drive/MyDrive/bath/master/oxford102-dataset\"\n",
        "IMAGES_PATH = f\"{DATASET_PATH}/images/jpg\"\n",
        "LABELS_PATH = f\"{DATASET_PATH}/imagelabels.mat\""
      ]
    },
    {
      "cell_type": "markdown",
      "metadata": {
        "id": "lY00mGNEUOgg"
      },
      "source": [
        "**Flatten Labels**"
      ]
    },
    {
      "cell_type": "code",
      "execution_count": 15,
      "metadata": {
        "colab": {
          "base_uri": "https://localhost:8080/"
        },
        "id": "tO8plEWjS08z",
        "outputId": "1e8271dd-aedd-4ae6-e50a-315e99e566d1"
      },
      "outputs": [
        {
          "data": {
            "text/plain": [
              "tensor([76, 76, 76,  ..., 61, 61, 61])"
            ]
          },
          "execution_count": 15,
          "metadata": {},
          "output_type": "execute_result"
        }
      ],
      "source": [
        "label_data = scipy.io.loadmat(LABELS_PATH)\n",
        "image_labels = label_data['labels'].flatten() - 1  # Convert MATLAB 1-based to 0-based indexing\n",
        "image_labels = torch.tensor(image_labels, dtype=torch.long)\n",
        "image_labels"
      ]
    },
    {
      "cell_type": "markdown",
      "metadata": {
        "id": "8Lu0EA2LVTt8"
      },
      "source": [
        "**Define Custom Dataset**"
      ]
    },
    {
      "cell_type": "code",
      "execution_count": 16,
      "metadata": {
        "id": "-ZEBsFeRVWBl"
      },
      "outputs": [],
      "source": [
        "from PIL import Image\n",
        "\n",
        "class OxfordFlowersDataset(Dataset):\n",
        "    def __init__(self, root_dir, labels, transform=None):\n",
        "        self.root_dir = root_dir\n",
        "        self.labels = labels\n",
        "        self.transform = transform\n",
        "        self.image_files = sorted(os.listdir(root_dir))  # Ensure correct order\n",
        "\n",
        "    def __len__(self):\n",
        "        return len(self.labels)\n",
        "\n",
        "    def __getitem__(self, idx):\n",
        "        img_path = os.path.join(self.root_dir, self.image_files[idx])\n",
        "        # image = Image.open(img_path).convert(\"RGB\")\n",
        "        label = self.labels[idx]\n",
        "\n",
        "        if self.transform:\n",
        "            image = self.transform(image)\n",
        "\n",
        "        return image, label\n"
      ]
    },
    {
      "cell_type": "markdown",
      "metadata": {
        "id": "VYhTYvB0VgDI"
      },
      "source": [
        "## Training Prep"
      ]
    },
    {
      "cell_type": "markdown",
      "metadata": {
        "id": "OuLeo-a4V4bm"
      },
      "source": [
        "Proportion:\n",
        "- 80:20 - train:val\n",
        "\n",
        "Transformation:\n",
        "- resize to 224x224\n",
        "- horizonal flip\n",
        "- convert to tensor\n",
        "- normalize image"
      ]
    },
    {
      "cell_type": "code",
      "execution_count": 26,
      "metadata": {
        "id": "Yjv2zhrsVizY"
      },
      "outputs": [],
      "source": [
        "transform = transforms.Compose([\n",
        "    transforms.Resize((224, 224)),\n",
        "    transforms.RandomHorizontalFlip(),\n",
        "    transforms.ToTensor(),\n",
        "    transforms.Normalize(mean=[0.485, 0.456, 0.406], std=[0.229, 0.224, 0.225]),\n",
        "])\n",
        "\n",
        "dataset = OxfordFlowersDataset(\n",
        "    root_dir    = IMAGES_PATH,\n",
        "    labels      = image_labels,\n",
        "    transform   = transform\n",
        ")\n",
        "\n",
        "# Split dataset into training and validation\n",
        "train_size = int(0.8 * len(dataset))\n",
        "val_size = len(dataset) - train_size\n",
        "train_dataset, val_dataset = torch.utils.data.random_split(dataset, [train_size, val_size])\n",
        "\n",
        "train_loader = DataLoader(train_dataset, batch_size=32, shuffle=True)\n",
        "val_loader = DataLoader(val_dataset, batch_size=32, shuffle=False)\n"
      ]
    },
    {
      "cell_type": "code",
      "execution_count": 34,
      "metadata": {
        "id": "qn95GotZWZNm"
      },
      "outputs": [],
      "source": [
        "model = models.mobilenet_v3_large(pretrained=True)\n",
        "model.classifier[3] = nn.Linear(model.classifier[3].in_features, 102)  # 102 classes\n",
        "device = torch.device('cuda' if torch.cuda.is_available() else 'cpu')\n",
        "model = model.to(device)\n",
        "\n"
      ]
    },
    {
      "cell_type": "code",
      "execution_count": 35,
      "metadata": {
        "id": "ZhOJ7bTpWbyX"
      },
      "outputs": [],
      "source": [
        "criterion = nn.CrossEntropyLoss()\n",
        "optimizer = Adam(model.parameters(), lr=0.001)"
      ]
    },
    {
      "cell_type": "markdown",
      "metadata": {
        "id": "icPz7XfRWehr"
      },
      "source": [
        "## Model Training"
      ]
    },
    {
      "cell_type": "code",
      "execution_count": 36,
      "metadata": {
        "id": "tfskqI2yWgfV"
      },
      "outputs": [],
      "source": [
        "def train_model(model, criterion, optimizer, train_loader, val_loader, num_epochs=10):\n",
        "    train_losses = []\n",
        "    val_losses = []\n",
        "    train_accuracies = []\n",
        "    val_accuracies = []\n",
        "\n",
        "    for epoch in range(num_epochs):\n",
        "        # Training phase\n",
        "        model.train()\n",
        "        train_loss = 0.0\n",
        "        correct = 0\n",
        "        total = 0\n",
        "\n",
        "        for images, labels in train_loader:\n",
        "            images, labels = images.to(device), labels.to(device)  # Move to device\n",
        "\n",
        "            optimizer.zero_grad()\n",
        "            outputs = model(images)\n",
        "            loss = criterion(outputs, labels)\n",
        "            loss.backward()\n",
        "            optimizer.step()\n",
        "\n",
        "            train_loss += loss.item()\n",
        "            _, predicted = outputs.max(1)\n",
        "            total += labels.size(0)\n",
        "            correct += predicted.eq(labels).sum().item()\n",
        "\n",
        "        train_acc = 100. * correct / total\n",
        "        train_losses.append(train_loss / len(train_loader))\n",
        "        train_accuracies.append(train_acc)\n",
        "\n",
        "        # Validation phase\n",
        "        model.eval()\n",
        "        val_loss = 0.0\n",
        "        correct = 0\n",
        "        total = 0\n",
        "\n",
        "        with torch.no_grad():\n",
        "            for images, labels in val_loader:\n",
        "                images, labels = images.to(device), labels.to(device)  # Move to device\n",
        "\n",
        "                outputs = model(images)\n",
        "                loss = criterion(outputs, labels)\n",
        "\n",
        "                val_loss += loss.item()\n",
        "                _, predicted = outputs.max(1)\n",
        "                total += labels.size(0)\n",
        "                correct += predicted.eq(labels).sum().item()\n",
        "\n",
        "        val_acc = 100. * correct / total\n",
        "        val_losses.append(val_loss / len(val_loader))\n",
        "        val_accuracies.append(val_acc)\n",
        "\n",
        "        print(f\"Epoch {epoch+1}/{num_epochs}, Train Loss: {train_losses[-1]:.4f}, \"\n",
        "              f\"Train Acc: {train_accuracies[-1]:.2f}%, Val Loss: {val_losses[-1]:.4f}, \"\n",
        "              f\"Val Acc: {val_accuracies[-1]:.2f}%\")\n",
        "\n",
        "    return model, train_losses, val_losses, train_accuracies, val_accuracies\n"
      ]
    },
    {
      "cell_type": "code",
      "execution_count": 37,
      "metadata": {
        "colab": {
          "base_uri": "https://localhost:8080/",
          "height": 1000
        },
        "id": "B2-J2a-DW5GU",
        "outputId": "860e3de4-45be-462e-8261-e550ba71358f"
      },
      "outputs": [
        {
          "name": "stdout",
          "output_type": "stream",
          "text": [
            "Epoch 1/10, Train Loss: 1.0175, Train Acc: 75.30%, Val Loss: 0.8289, Val Acc: 79.18%\n",
            "Epoch 2/10, Train Loss: 0.2227, Train Acc: 93.67%, Val Loss: 0.5729, Val Acc: 84.68%\n",
            "Epoch 3/10, Train Loss: 0.1891, Train Acc: 94.46%, Val Loss: 0.7248, Val Acc: 84.19%\n",
            "Epoch 4/10, Train Loss: 0.1659, Train Acc: 95.08%, Val Loss: 0.4319, Val Acc: 90.78%\n",
            "Epoch 5/10, Train Loss: 0.1394, Train Acc: 96.06%, Val Loss: 0.5201, Val Acc: 90.11%\n",
            "Epoch 6/10, Train Loss: 0.1390, Train Acc: 95.97%, Val Loss: 0.5367, Val Acc: 87.36%\n",
            "Epoch 7/10, Train Loss: 0.0969, Train Acc: 97.25%, Val Loss: 0.3731, Val Acc: 90.60%\n",
            "Epoch 8/10, Train Loss: 0.1202, Train Acc: 96.28%, Val Loss: 0.4739, Val Acc: 88.95%\n",
            "Epoch 9/10, Train Loss: 0.0856, Train Acc: 97.57%, Val Loss: 0.3820, Val Acc: 91.64%\n",
            "Epoch 10/10, Train Loss: 0.0836, Train Acc: 97.70%, Val Loss: 0.2860, Val Acc: 92.98%\n"
          ]
        },
        {
          "data": {
            "image/png": "[encoded data removed]",
            "text/plain": [
              "<Figure size 640x480 with 1 Axes>"
            ]
          },
          "metadata": {},
          "output_type": "display_data"
        },
        {
          "data": {
            "image/png": "[encoded data removed]",
            "text/plain": [
              "<Figure size 640x480 with 1 Axes>"
            ]
          },
          "metadata": {},
          "output_type": "display_data"
        }
      ],
      "source": [
        "import matplotlib.pyplot as plt\n",
        "\n",
        "# Train the model\n",
        "model, train_losses, val_losses, train_accuracies, val_accuracies = train_model(\n",
        "    model, criterion, optimizer, train_loader, val_loader, num_epochs=10\n",
        ")\n",
        "\n",
        "# Plot losses\n",
        "plt.figure()\n",
        "plt.plot(train_losses, label='Training Loss')\n",
        "plt.plot(val_losses, label='Validation Loss')\n",
        "plt.xlabel('Epochs')\n",
        "plt.ylabel('Loss')\n",
        "plt.legend()\n",
        "plt.title('Learning Curve: Loss')\n",
        "plt.show()\n",
        "\n",
        "# Plot accuracies\n",
        "plt.figure()\n",
        "plt.plot(train_accuracies, label='Training Accuracy')\n",
        "plt.plot(val_accuracies, label='Validation Accuracy')\n",
        "plt.xlabel('Epochs')\n",
        "plt.ylabel('Accuracy (%)')\n",
        "plt.legend()\n",
        "plt.title('Learning Curve: Accuracy')\n",
        "plt.show()\n"
      ]
    }
  ],
  "metadata": {
    "colab": {
      "provenance": []
    },
    "kernelspec": {
      "display_name": "Python 3",
      "name": "python3"
    },
    "language_info": {
      "name": "python"
    }
  },
  "nbformat": 4,
  "nbformat_minor": 0
}
